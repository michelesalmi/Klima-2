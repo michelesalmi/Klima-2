{
 "cells": [
  {
   "cell_type": "code",
   "execution_count": 24,
   "metadata": {},
   "outputs": [],
   "source": [
    "import xarray as xr\n",
    "import numpy as np\n",
    "import matplotlib.pyplot as plt\n",
    "import xarray\n",
    "import cartopy.crs as ccrs\n",
    "from scipy.signal import detrend\n",
    "#import eofs"
   ]
  },
  {
   "cell_type": "code",
   "execution_count": 25,
   "metadata": {},
   "outputs": [],
   "source": [
    "pfad = \"/home/srvx11/lehre/users/a1127897/ipython/Klima2/Data/mslp_daily/\""
   ]
  },
  {
   "cell_type": "code",
   "execution_count": 26,
   "metadata": {},
   "outputs": [],
   "source": [
    "def open_df(pfad):\n",
    "    df = xr.open_mfdataset(pfad+'*.nc',chunks={'initial_time0_hours':504,'g0_lat_1':29,'g0_lon_2':29})\n",
    "    df = df.rename({'initial_time0_hours':'time','g0_lat_1':'lat','g0_lon_2':'lon','PRMSL_GDS0_MSL':'mslp'}).drop(\"initial_time0_encoded\")\n",
    "    df.coords['lon'] = (df.coords['lon'] + 180) % 360 - 180\n",
    "    return df\n",
    "def mean_std(df):\n",
    "    df_mean = df.resample(time='1D').mean().chunk({'time':504,'lat':29,'lon':29})\n",
    "    df_roll_mean = df_mean.rolling(time=20,center=True).mean().dropna('time').groupby('time.dayofyear').mean(axis=0)\n",
    "    \n",
    "    new_dim = df_mean.rolling(time=20, center=True).construct('dim_roll_days') #Die +- 10 Tage in eine eigene Dim stecken\n",
    "    stacked_dim =new_dim.stack(line=('lat','lon')) # Stack into Dimension lat, lon\n",
    "    df_std = stacked_dim.groupby('time.dayofyear').std() #Std der 20 Tage pro Tag des Jahres berechnen\n",
    "    return df_mean,df_std\n",
    "def anomaly_nor(df,mean,std):\n",
    "    anomaly = df - mean\n",
    "    anomaly_norm = anomaly / std\n",
    "    return anomaly,anomaly_norm"
   ]
  },
  {
   "cell_type": "code",
   "execution_count": 30,
   "metadata": {},
   "outputs": [
    {
     "name": "stderr",
     "output_type": "stream",
     "text": [
      "/opt/anaconda3/lib/python3.7/site-packages/xarray/core/groupby.py:758: FutureWarning: Default reduction dimension will be changed to the grouped dimension in a future version of xarray. To silence this warning, pass dim=xarray.ALL_DIMS explicitly.\n",
      "  allow_lazy=True, **kwargs)\n",
      "/opt/anaconda3/lib/python3.7/site-packages/dask/array/core.py:3233: PerformanceWarning: Increasing number of chunks by factor of 25\n",
      "  **blockwise_kwargs)\n"
     ]
    }
   ],
   "source": [
    "df = open_df(pfad)\n",
    "df_mean,df_std = mean_std(df)\n",
    "df_ano, df_norm_ano = anomaly_nor(df,df_mean,df_std)"
   ]
  },
  {
   "cell_type": "code",
   "execution_count": 31,
   "metadata": {},
   "outputs": [
    {
     "data": {
      "text/plain": [
       "<xarray.Dataset>\n",
       "Dimensions:    (dayofyear: 366, lat: 29, lon: 29, time: 731)\n",
       "Coordinates:\n",
       "  * time       (time) datetime64[ns] 2015-01-01 2015-01-02 ... 2016-12-31\n",
       "  * lat        (lat) float32 67.5 66.25 65.0 63.75 ... 36.25 35.0 33.75 32.5\n",
       "  * lon        (lon) float32 -10.0 -8.75 -7.5 -6.25 ... 21.25 22.5 23.75 25.0\n",
       "  * dayofyear  (dayofyear) int64 1 2 3 4 5 6 7 8 ... 360 361 362 363 364 365 366\n",
       "Data variables:\n",
       "    mslp       (time, lat, lon, dayofyear) float32 dask.array<shape=(731, 29, 29, 366), chunksize=(31, 29, 29, 1)>"
      ]
     },
     "execution_count": 31,
     "metadata": {},
     "output_type": "execute_result"
    }
   ],
   "source": [
    "df_norm_ano"
   ]
  },
  {
   "cell_type": "code",
   "execution_count": null,
   "metadata": {},
   "outputs": [],
   "source": []
  }
 ],
 "metadata": {
  "kernelspec": {
   "display_name": "Python 3",
   "language": "python",
   "name": "python3"
  },
  "language_info": {
   "codemirror_mode": {
    "name": "ipython",
    "version": 3
   },
   "file_extension": ".py",
   "mimetype": "text/x-python",
   "name": "python",
   "nbconvert_exporter": "python",
   "pygments_lexer": "ipython3",
   "version": "3.7.3"
  }
 },
 "nbformat": 4,
 "nbformat_minor": 2
}
